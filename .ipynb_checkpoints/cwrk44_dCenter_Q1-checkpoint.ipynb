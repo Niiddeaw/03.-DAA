{
 "cells": [
  {
   "cell_type": "code",
   "execution_count": 9,
   "id": "19721733",
   "metadata": {},
   "outputs": [
    {
     "name": "stdout",
     "output_type": "stream",
     "text": [
      "Error while connecting to MySQL 2005 (HY000): Unknown MySQL server host 'myeusql.dur.ac.uk' (11001)\n"
     ]
    }
   ],
   "source": [
    "#create a database name “Pusername_dCenter” in MySQL provided by our university (URL: \"myeusql.dur.ac.uk\") (assume that the username is \"dur\" and password is \"G5k/709”) [10 marks]\n",
    "\n",
    "import mysql.connector\n",
    "from mysql.connector import Error\n",
    "\n",
    "try:\n",
    "    connection = mysql.connector.connect(user='cwrk44', password='byke57r', host= 'myeusql.dur.ac.uk')\n",
    "    #mySql_Create_Database = CREATE DATABASE NewDatabase;\n",
    "    if connection.is_connected():\n",
    "        db.Info = connection.get_server_info()\n",
    "        print('Connected to MySQL Server version ', db_Info)\n",
    "        cursor = connection.cursor()\n",
    "        cursor.execute('SHOW DATABASES')\n",
    "        records = cursor.fetchall()\n",
    "        for record in records:\n",
    "            print(record)   \n",
    "\n",
    "except Error as e:\n",
    "    print('Error while connecting to MySQL', e)\n"
   ]
  },
  {
   "cell_type": "code",
   "execution_count": 3,
   "id": "6326b321",
   "metadata": {},
   "outputs": [],
   "source": [
    "#b)\tcreate the tables designed in your ER diagram in this database.  Lecture 7 page 15\n",
    "\n",
    "#teacher table\n",
    "mySql_Create_Table_Teacher_Query = \"\"\"CREATE TABLE teacher ( \n",
    "teacher_id int(10) NOT NULL, \n",
    "t_fullname varchar(200) NOT NULL,\n",
    "t_address varchar(200) NOT NULL,\n",
    "t_phonenumber int(11) NOT NULL,\n",
    "t_email varchar(100) NOT NULL , \n",
    "hiring_date Date NOT NULL, \n",
    "salary float(12) NOT NULL,\n",
    "contract_id int(11) NOT NULL,\n",
    "PRIMARY KEY (teacher_id)),\n",
    "FOREIGN KEY (contract_id) REFERENCES contract(contract_id)\n",
    ")\n",
    "\"\"\"\n",
    "\n",
    "#contract table\n",
    "mySql_Create_Table_Contract_Query = \"\"\"CREATE TABLE contract ( \n",
    "contract_id int(10) NOT NULL, \n",
    "teacher_id int(10) NOT NULL,\n",
    "course_id VARCHAR(10) NOT NULL,\n",
    "PRIMARY KEY (contract_id)),\n",
    "FOREIGN KEY (teacher_id) REFERENCES teacher(teacher_id),\n",
    "FOREIGN KEY (course_id) REFERENCES course(course_id)\n",
    ")\n",
    "\"\"\"\n",
    "\n",
    "#course table\n",
    "mySql_Create_Table_Course_Query = \"\"\"CREATE TABLE course ( \n",
    "course_id VARCHAR(10) NOT NULL,\n",
    "title VARCHAR(50) NOT NULL,\n",
    "language VARCHAR(10) NOT NULL,\n",
    "course_type VARCHAR(10) NOT NULL,\n",
    "precessor_course_id VARCHAR(10) NOT NULL,\n",
    "successor_course_id VARCHAR(10) NOT NULL,\n",
    "contract_id int(10) NOT NULL,\n",
    "reg_id int(10) NOT NULL,\n",
    "PRIMARY KEY (course_id)),\n",
    "FOREIGN KEY (contract_id) REFERENCES contract(contract_id),\n",
    "FOREIGN KEY (reg_id) REFERENCES registration(reg_id)\n",
    ")\n",
    "\"\"\"\n",
    "\n",
    "#registration table\n",
    "mySql_Create_Table_Registration_Query = \"\"\"CREATE TABLE registration ( \n",
    "reg_id int(10) NOT NULL, \n",
    "course_id VARCHAR(10) NOT NULL,\n",
    "student_id int(8) NOT NULL,\n",
    "PRIMARY KEY (reg_id)),\n",
    "FOREIGN KEY (course_id) REFERENCES course(course_id)\n",
    "FOREIGN KEY (student_id) REFERENCES student(student_id),\n",
    ")\n",
    "\"\"\"\n",
    "\n",
    "\n",
    "#student table\n",
    "mySql_Create_Table_Student_Query = \"\"\"CREATE TABLE student ( \n",
    "student_id int(8) NOT NULL, \n",
    "s_fullname varchar(200) NOT NULL,\n",
    "s_address varchar(200) NOT NULL,\n",
    "s_phonenumber int(11) NOT NULL,\n",
    "s_email varchar(100) NOT NULL , \n",
    "date_of_join Date NOT NULL,\n",
    "reg_id int(10) NOT NULL,\n",
    "PRIMARY KEY (student_id),\n",
    "FOREIGN KEY (reg_id) REFERENCES registration(reg_id)\n",
    ") \n",
    "\"\"\""
   ]
  },
  {
   "cell_type": "code",
   "execution_count": 4,
   "id": "4c773be3",
   "metadata": {},
   "outputs": [],
   "source": [
    "#insert at least two rows in each table. – Lecture 7 page 20-25"
   ]
  },
  {
   "cell_type": "code",
   "execution_count": null,
   "id": "5857b1dd",
   "metadata": {},
   "outputs": [],
   "source": []
  },
  {
   "cell_type": "code",
   "execution_count": null,
   "id": "790f96bb",
   "metadata": {},
   "outputs": [],
   "source": []
  }
 ],
 "metadata": {
  "kernelspec": {
   "display_name": "Python 3 (ipykernel)",
   "language": "python",
   "name": "python3"
  },
  "language_info": {
   "codemirror_mode": {
    "name": "ipython",
    "version": 3
   },
   "file_extension": ".py",
   "mimetype": "text/x-python",
   "name": "python",
   "nbconvert_exporter": "python",
   "pygments_lexer": "ipython3",
   "version": "3.9.12"
  }
 },
 "nbformat": 4,
 "nbformat_minor": 5
}
