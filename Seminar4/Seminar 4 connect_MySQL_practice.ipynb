{
 "cells": [
  {
   "cell_type": "markdown",
   "metadata": {},
   "source": [
    "# <font color=\"#03588C\">Data Analystics in Action -2021/22</font>\n",
    "## <font color=\"#035AA6\">Seminar 4 </font>"
   ]
  },
  {
   "cell_type": "markdown",
   "metadata": {},
   "source": [
    "### <font color=\"#BF8B2A\">1 - About this notebook</font> ###\n",
    "#### <font color=\"#BF9A2A\">Let's talk about why we have this material.</font> ####\n",
    "\n",
    "Althouth you may have learned how to query a database from a console or a GUI like [phpMyAdmin](https://community.dur.ac.uk/php.myadmin/password/phpMyAdmin/), when dealing with huge amount of data or to build your own application in the future, the best approach is to directly access the data from your program. In this material, we'll show you how to do that in python.\n",
    "\n",
    "Since the purpose is to tell you how to query a database by yourself, we'll NOT pre-inject the data for you. Instead, you'll have to create the table and insert the data by yourself.\n",
    "\n",
    "To give you full-access of the database on the university server, we'll use mySQL on this one. \n",
    "\n",
    "##### Connectors #####\n",
    "\n",
    "You'll need to use an \"Adapter\"-like package to connect python and the database management system. In this case it will be [MySQL Connectors](https://www.mysql.com/products/connector/). Please install it in your local.\n",
    "\n",
    "In case you want to install in your own enviroment, you can install it via [conda](https://anaconda.org/anaconda/mysql-connector-python)."
   ]
  },
  {
   "cell_type": "markdown",
   "metadata": {},
   "source": [
    "### <font color=\"#BF8B2A\">2 - Packages</font> ###\n",
    "#### <font color=\"#BF9A2A\">Let's import the package that allows you to connect to the database management system.</font>####"
   ]
  },
  {
   "cell_type": "code",
   "execution_count": 1,
   "metadata": {},
   "outputs": [],
   "source": [
    "import mysql.connector \n",
    "from mysql.connector import Error"
   ]
  },
  {
   "cell_type": "markdown",
   "metadata": {},
   "source": [
    "### <font color=\"#BF8B2A\">3 - Connections</font> ###\n",
    "#### <font color=\"#BF9A2A\">Then, let's establish the connection to our database.</font>####\n",
    "##### As talked, most of the values stay the same. #####\n",
    "- <font color=\"#2874A6\">user</font> and <font color=\"2874A6\">password</font> are corresponding to your credentials to the DBMS, we've already set up the account for you. The username and the password is your ID and password for  phpMyAdmin.\n",
    "\n",
    "- <font color=\"#2874A6\">host</font> stands for the server which the database management system(DBMS) is running on. In this case, it's on the same server as the phpMyAdmin is running on. Then the value would be <font color=\"#B02828\">\"myeusql.dur.ac.uk\"</font>.\n",
    "\n",
    "- <font color=\"#2874A6\">database</font> stands for the database inside the DBMS, one DBMS can handle multiple databases. Use the database you created in the previous seminar.\n",
    "\n",
    "Please change the username and the database to your own credentials accordingly. \n",
    "Note: you need to connect to VPN for this to work.\n",
    "\n",
    "Also, the connector depends on a cursor object to interact with the DBMS, the following code snippet will create one <code>cursor = conn.cursor()</code>"
   ]
  },
  {
   "cell_type": "code",
   "execution_count": 1,
   "metadata": {
    "scrolled": true
   },
   "outputs": [
    {
     "ename": "NameError",
     "evalue": "name 'Error' is not defined",
     "output_type": "error",
     "traceback": [
      "\u001b[1;31m---------------------------------------------------------------------------\u001b[0m",
      "\u001b[1;31mNameError\u001b[0m                                 Traceback (most recent call last)",
      "Input \u001b[1;32mIn [1]\u001b[0m, in \u001b[0;36m<cell line: 4>\u001b[1;34m()\u001b[0m\n\u001b[0;32m      4\u001b[0m \u001b[38;5;28;01mtry\u001b[39;00m:    \n\u001b[1;32m----> 5\u001b[0m     conn \u001b[38;5;241m=\u001b[39m \u001b[43mmysql\u001b[49m\u001b[38;5;241m.\u001b[39mconnector\u001b[38;5;241m.\u001b[39mconnect(user\u001b[38;5;241m=\u001b[39m\u001b[38;5;124m'\u001b[39m\u001b[38;5;124mcwrk44\u001b[39m\u001b[38;5;124m'\u001b[39m, password\u001b[38;5;241m=\u001b[39m\u001b[38;5;124m'\u001b[39m\u001b[38;5;124mbyke57r\u001b[39m\u001b[38;5;124m'\u001b[39m, host\u001b[38;5;241m=\u001b[39m \u001b[38;5;124m'\u001b[39m\u001b[38;5;124mmyeusql.dur.ac.uk\u001b[39m\u001b[38;5;124m'\u001b[39m, database\u001b[38;5;241m=\u001b[39m \u001b[38;5;124m'\u001b[39m\u001b[38;5;124mPcwrk44_world\u001b[39m\u001b[38;5;124m'\u001b[39m)\n\u001b[0;32m      6\u001b[0m     \u001b[38;5;28;01mif\u001b[39;00m conn\u001b[38;5;241m.\u001b[39mis_connected():\n",
      "\u001b[1;31mNameError\u001b[0m: name 'mysql' is not defined",
      "\nDuring handling of the above exception, another exception occurred:\n",
      "\u001b[1;31mNameError\u001b[0m                                 Traceback (most recent call last)",
      "Input \u001b[1;32mIn [1]\u001b[0m, in \u001b[0;36m<cell line: 4>\u001b[1;34m()\u001b[0m\n\u001b[0;32m     12\u001b[0m         \u001b[38;5;28;01mfor\u001b[39;00m record \u001b[38;5;129;01min\u001b[39;00m records:\n\u001b[0;32m     13\u001b[0m             \u001b[38;5;28mprint\u001b[39m(record)\n\u001b[1;32m---> 15\u001b[0m \u001b[38;5;28;01mexcept\u001b[39;00m \u001b[43mError\u001b[49m \u001b[38;5;28;01mas\u001b[39;00m e:\n\u001b[0;32m     16\u001b[0m     \u001b[38;5;28mprint\u001b[39m(\u001b[38;5;124m\"\u001b[39m\u001b[38;5;124mError while connecting to MySQL\u001b[39m\u001b[38;5;124m\"\u001b[39m, e)\n",
      "\u001b[1;31mNameError\u001b[0m: name 'Error' is not defined"
     ]
    }
   ],
   "source": [
    "# You need to fill in your credentials, and take care the error\n",
    "# try to connect to the database called \"xxxxx_world\" that created in Seminar 3 \n",
    "# and then use \"SHOW TABLES\" SQL statement to show all the tables in the database\n",
    "try:    \n",
    "    conn = mysql.connector.connect(user='cwrk44', password='byke57r', host= 'myeusql.dur.ac.uk', database= 'Pcwrk44_world')\n",
    "    if conn.is_connected():\n",
    "        db_Info = conn.get_server_info()\n",
    "        print(\"Connected to MySQL Server version \", db_Info)\n",
    "        cursor = conn.cursor()\n",
    "        cursor.execute(\"SHOW TABLES\")\n",
    "        records = cursor.fetchall()\n",
    "        for record in records:\n",
    "            print(record)\n",
    "\n",
    "except Error as e:\n",
    "    print(\"Error while connecting to MySQL\", e)\n"
   ]
  },
  {
   "cell_type": "markdown",
   "metadata": {},
   "source": [
    "### <font color=\"#BF8B2A\">4 - Data injection SQL</font> ###\n",
    "#### <font color=\"#BF9A2A\">Finally, it's time to do some query.</font> ####\n",
    "This step is quite straight forward, just put the SQL into the <code>execute()</code> method and you're ready to go. Try to create the tables and insert the data by yourself. \n",
    "\n",
    "Also, since by default Connector/Python does not autocommit, it is important to call <code>commit()</code> method after every transaction that modifies data for tables that use transactional storage engines.\n",
    "\n",
    "For convenience sake, we've pasted the SQL here and tuned it a little bit for MySQL for you.\n",
    "\n",
    "##### <font color=\"#FF5A49\">Create a table named \"sample\" and insert some data into it.</font> #####\n",
    "\n",
    "<code>CREATE TABLE sample (\n",
    "    no integer PRIMARY KEY,\n",
    "    name varchar(50),\n",
    "    price integer\n",
    "    );\n",
    "    \n",
    "INSERT INTO sample VALUES(1001,'orange',50);\n",
    "INSERT INTO sample VALUES(1002,'apple',90);\n",
    "INSERT INTO sample VALUES(1003,'banana',50);</code>"
   ]
  },
  {
   "cell_type": "code",
   "execution_count": 6,
   "metadata": {},
   "outputs": [
    {
     "ename": "MySQLInterfaceError",
     "evalue": "Python type tuple cannot be converted",
     "output_type": "error",
     "traceback": [
      "\u001b[1;31m---------------------------------------------------------------------------\u001b[0m",
      "\u001b[1;31mMySQLInterfaceError\u001b[0m                       Traceback (most recent call last)",
      "Input \u001b[1;32mIn [6]\u001b[0m, in \u001b[0;36m<cell line: 10>\u001b[1;34m()\u001b[0m\n\u001b[0;32m      9\u001b[0m \u001b[38;5;66;03m# Insert some data\u001b[39;00m\n\u001b[0;32m     10\u001b[0m \u001b[38;5;28;01mfor\u001b[39;00m insert_query \u001b[38;5;129;01min\u001b[39;00m insert_query_list:\n\u001b[1;32m---> 11\u001b[0m     \u001b[43mcursor\u001b[49m\u001b[38;5;241;43m.\u001b[39;49m\u001b[43mexecute\u001b[49m\u001b[43m(\u001b[49m\u001b[43minsert_query\u001b[49m\u001b[43m,\u001b[49m\u001b[43minsert_query_list\u001b[49m\u001b[43m)\u001b[49m\n\u001b[0;32m     12\u001b[0m \u001b[38;5;66;03m# Commit the changes    \u001b[39;00m\n\u001b[0;32m     13\u001b[0m conn\u001b[38;5;241m.\u001b[39mcommit()\n",
      "File \u001b[1;32m~\\anaconda3\\lib\\site-packages\\mysql\\connector\\cursor_cext.py:257\u001b[0m, in \u001b[0;36mCMySQLCursor.execute\u001b[1;34m(self, operation, params, multi)\u001b[0m\n\u001b[0;32m    254\u001b[0m     \u001b[38;5;28;01mraise\u001b[39;00m errors\u001b[38;5;241m.\u001b[39mProgrammingError(\u001b[38;5;28mstr\u001b[39m(err))\n\u001b[0;32m    256\u001b[0m \u001b[38;5;28;01mif\u001b[39;00m params:\n\u001b[1;32m--> 257\u001b[0m     prepared \u001b[38;5;241m=\u001b[39m \u001b[38;5;28;43mself\u001b[39;49m\u001b[38;5;241;43m.\u001b[39;49m\u001b[43m_cnx\u001b[49m\u001b[38;5;241;43m.\u001b[39;49m\u001b[43mprepare_for_mysql\u001b[49m\u001b[43m(\u001b[49m\u001b[43mparams\u001b[49m\u001b[43m)\u001b[49m\n\u001b[0;32m    258\u001b[0m     \u001b[38;5;28;01mif\u001b[39;00m \u001b[38;5;28misinstance\u001b[39m(prepared, \u001b[38;5;28mdict\u001b[39m):\n\u001b[0;32m    259\u001b[0m         \u001b[38;5;28;01mfor\u001b[39;00m key, value \u001b[38;5;129;01min\u001b[39;00m prepared\u001b[38;5;241m.\u001b[39mitems():\n",
      "File \u001b[1;32m~\\anaconda3\\lib\\site-packages\\mysql\\connector\\connection_cext.py:684\u001b[0m, in \u001b[0;36mCMySQLConnection.prepare_for_mysql\u001b[1;34m(self, params)\u001b[0m\n\u001b[0;32m    676\u001b[0m         result \u001b[38;5;241m=\u001b[39m [\n\u001b[0;32m    677\u001b[0m             \u001b[38;5;28mself\u001b[39m\u001b[38;5;241m.\u001b[39mconverter\u001b[38;5;241m.\u001b[39mquote(\n\u001b[0;32m    678\u001b[0m                 \u001b[38;5;28mself\u001b[39m\u001b[38;5;241m.\u001b[39mconverter\u001b[38;5;241m.\u001b[39mescape(\n\u001b[1;32m   (...)\u001b[0m\n\u001b[0;32m    681\u001b[0m             ) \u001b[38;5;28;01mfor\u001b[39;00m value \u001b[38;5;129;01min\u001b[39;00m params\n\u001b[0;32m    682\u001b[0m         ]\n\u001b[0;32m    683\u001b[0m     \u001b[38;5;28;01melse\u001b[39;00m:\n\u001b[1;32m--> 684\u001b[0m         result \u001b[38;5;241m=\u001b[39m \u001b[38;5;28;43mself\u001b[39;49m\u001b[38;5;241;43m.\u001b[39;49m\u001b[43m_cmysql\u001b[49m\u001b[38;5;241;43m.\u001b[39;49m\u001b[43mconvert_to_mysql\u001b[49m\u001b[43m(\u001b[49m\u001b[38;5;241;43m*\u001b[39;49m\u001b[43mparams\u001b[49m\u001b[43m)\u001b[49m\n\u001b[0;32m    685\u001b[0m \u001b[38;5;28;01melif\u001b[39;00m \u001b[38;5;28misinstance\u001b[39m(params, \u001b[38;5;28mdict\u001b[39m):\n\u001b[0;32m    686\u001b[0m     result \u001b[38;5;241m=\u001b[39m {}\n",
      "\u001b[1;31mMySQLInterfaceError\u001b[0m: Python type tuple cannot be converted"
     ]
    }
   ],
   "source": [
    "# Type the query here\n",
    "create_table_query = \"CREATE TABLE sample (no integer PRIMARY KEY,name varchar(50),price integer);\"\n",
    "insert_query = \"\"\"INSERT INTO sample(no integer, name, price) VALUES(%s,%s,%s)\"\"\"\n",
    "insert_query_list = [(1001,'orange',50),(1002,'apple',90),(1003,'banana',50)]\n",
    "# To make sure there's no duplication of the table, we will execute a query to drop the table if it exists\n",
    "cursor.execute(\"DROP TABLE IF EXISTS sample\")\n",
    "# Create the table\n",
    "cursor.execute(create_table_query)\n",
    "# Insert some data\n",
    "for insert_query in insert_query_list:\n",
    "    cursor.execute(insert_query,insert_query_list)\n",
    "# Commit the changes    \n",
    "conn.commit()\n",
    "# Confirm we have successfully created the table and inserted the data\n",
    "print(\"Table created successfully and info inserted into sample table\")\n",
    "\n",
    "# Execute the SELECT query\n",
    "cursor.execute(\"SELECT * FROM sample\")\n",
    "# Fetch all the results\n",
    "results = cursor.fetchall()\n",
    "# Print the result\n",
    "for result in results:\n",
    "    print(result)\n"
   ]
  },
  {
   "cell_type": "markdown",
   "metadata": {},
   "source": [
    "##### <font color=\"#FF5A49\">Create a table named \"category\" and insert some data into it.</font> #####\n",
    "\n",
    "<code>CREATE TABLE category (\n",
    "    cat_id integer PRIMARY KEY,\n",
    "    cat_name varchar(30)\n",
    "    );\n",
    "    \n",
    "INSERT INTO category VALUES(1,'Art');\n",
    "INSERT INTO category VALUES(2,'Cookbook');\n",
    "INSERT INTO category VALUES(3,'Dictionary');\n",
    "INSERT INTO category VALUES(4,'Health');\n",
    "INSERT INTO category VALUES(5,'History');\n",
    "INSERT INTO category VALUES(6,'Textbook');\n",
    "INSERT INTO category VALUES(7,'Science');\n",
    "INSERT INTO category VALUES(8,'Travel');\n",
    "INSERT INTO category VALUES(9,'Science Fiction');\n",
    "INSERT INTO category VALUES(10,'Comic Book');</code>"
   ]
  },
  {
   "cell_type": "code",
   "execution_count": null,
   "metadata": {},
   "outputs": [],
   "source": [
    "# Type the query here\n",
    "create_table_query = None\n",
    "insert_query_list = None\n",
    "\n",
    "# To make sure there's no duplication of the table, we will execute a query to drop the table if it exists\n",
    "cursor.execute(\"DROP TABLE IF EXISTS category\")\n",
    "\n",
    "# Create the table\n",
    "\n",
    "\n",
    "# Insert some data\n",
    "\n",
    "\n",
    "# Commit the changes    \n",
    "\n",
    "\n",
    "# Confirm we have successfully created the table and inserted the data\n",
    "# Execute the SELECT query\n",
    "cursor.execute(\"SELECT * FROM category\")\n",
    "# Fetch all the results\n",
    "results = cursor.fetchall()\n",
    "# Print the result\n",
    "for result in results:\n",
    "    print(result)"
   ]
  },
  {
   "cell_type": "markdown",
   "metadata": {},
   "source": [
    "##### <font color=\"#FF5A49\">Create a table named \"books\" and insert some data into it.</font> #####\n",
    "\n",
    "<code>CREATE TABLE books(\n",
    "    book_id integer PRIMARY KEY,\n",
    "    title varchar(100) NOT NULL,\n",
    "    author varchar(50) NOT NULL,\n",
    "    date date,\n",
    "    cat_id integer REFERENCES category(cat_id),\n",
    "    price integer CHECK(price > 0),\n",
    "    stock integer DEFAULT 0\n",
    "    );\n",
    "    \n",
    "INSERT INTO books VALUES(10001,'Healthy habits','Taro Yamada','20160830',4,2200,15);\n",
    "INSERT INTO books VALUES(10002,'Vietnam in a week','John Pham','20170310',8,600,20);\n",
    "INSERT INTO books VALUES(10003,'Sazaesan','Machiko Hasegawa','20160121',10,1200,7);\n",
    "INSERT INTO books VALUES(10004,'Planet of apes','Monkey Mann','20160515',9,1000,null);\n",
    "INSERT INTO books VALUES(10005,'Yoga for Dummies','Hanako Yamada','20161123',4,1600,5);\n",
    "INSERT INTO books VALUES(10006,'English Dictionary','John Smith','20170120',3,1600,10);\n",
    "INSERT INTO books VALUES(10007,'Quantum Physics for Dummies','Jim Kim','20170225',7,700,18);\n",
    "INSERT INTO books VALUES(10008,'Introduction to Running','Peter Chen','20161022',4,2100,12);\n",
    "INSERT INTO books VALUES(10009,'Minority Report','Ken Westin','20160115',9,1300,3);\n",
    "INSERT INTO books VALUES(10010,'Greek Kitchen','Nick Papadomitos','20170216',2,1000,8);</code>"
   ]
  },
  {
   "cell_type": "code",
   "execution_count": null,
   "metadata": {},
   "outputs": [],
   "source": [
    "# Type the query here\n",
    "create_table_query = None\n",
    "insert_query_list = None\n",
    "\n",
    "# To make sure there's no duplication of the table, we will execute a query to drop the table if it exists\n",
    "cursor.execute(\"DROP TABLE IF EXISTS books\")\n",
    "\n",
    "# Create the table\n",
    "\n",
    "# Insert some data\n",
    "\n",
    "# Commit the changes    \n",
    "\n",
    "\n",
    "# Confirm we have successfully created the table and inserted the data\n",
    "# Execute the SELECT query\n",
    "cursor.execute(\"SELECT * FROM books\")\n",
    "# Fetch all the results\n",
    "results = cursor.fetchall()\n",
    "# Print the result\n",
    "for result in results:\n",
    "    print(result)"
   ]
  },
  {
   "cell_type": "markdown",
   "metadata": {},
   "source": [
    "### <font color=\"#BF8B2A\">5 - Retrieving data</font>  ###\n",
    "#### <font color=\"#BF9A2A\">If all goes well, you should have some tables as well as some data in your database now, let verify that next.</font> ####\n",
    "Similiar as above, all you have to do is to write the correct SQL and then execute it. After the execution, the data will be saved in the cursor object, you can call <code>fecthall()</code> to get all the query result.\n",
    "\n",
    "We will provide an example for you to fetch all the data in table \"books\" and print them out."
   ]
  },
  {
   "cell_type": "code",
   "execution_count": null,
   "metadata": {},
   "outputs": [],
   "source": [
    "sql = \"SELECT * FROM books;\"\n",
    "cursor.execute(sql)\n",
    "result = cursor.fetchall()\n",
    "for row in result:\n",
    "    print(row)"
   ]
  },
  {
   "cell_type": "markdown",
   "metadata": {},
   "source": [
    "### <font color=\"#6F7072\">Now you've learned how to retrieve as well as how to print the data, feel free to experiment with other query sentence. You can do better by utilizing the knowledge you've learned from Data Science to process or visualize these data.</font> ###\n",
    "<img src=\"img/glhf.png\" align=\"left\" width=\"500px\"></img>"
   ]
  },
  {
   "cell_type": "code",
   "execution_count": null,
   "metadata": {},
   "outputs": [],
   "source": [
    "# Template for you to explore with SQL\n",
    "sql = None\n",
    "cursor.execute(sql)\n",
    "result = cursor.fetchall()\n",
    "for row in result:\n",
    "    print(row)"
   ]
  },
  {
   "cell_type": "code",
   "execution_count": null,
   "metadata": {},
   "outputs": [],
   "source": [
    "#close cursor and connection object\n",
    "\n"
   ]
  }
 ],
 "metadata": {
  "kernelspec": {
   "display_name": "Python 3 (ipykernel)",
   "language": "python",
   "name": "python3"
  },
  "language_info": {
   "codemirror_mode": {
    "name": "ipython",
    "version": 3
   },
   "file_extension": ".py",
   "mimetype": "text/x-python",
   "name": "python",
   "nbconvert_exporter": "python",
   "pygments_lexer": "ipython3",
   "version": "3.9.12"
  }
 },
 "nbformat": 4,
 "nbformat_minor": 2
}
