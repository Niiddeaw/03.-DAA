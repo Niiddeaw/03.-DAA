{
 "cells": [
  {
   "cell_type": "markdown",
   "metadata": {},
   "source": [
    "# <font color=\"#03588C\">Data Analystics in Action -2021/22</font>\n",
    "## <font color=\"#035AA6\">Seminar 4 </font>"
   ]
  },
  {
   "cell_type": "markdown",
   "metadata": {},
   "source": [
    "### <font color=\"#BF8B2A\">1 - About this notebook</font> ###\n",
    "#### <font color=\"#BF9A2A\">Let's talk about why we have this material.</font> ####\n",
    "\n",
    "Althouth you may have learned how to query a database from a console or a GUI like [phpMyAdmin](https://community.dur.ac.uk/php.myadmin/password/phpMyAdmin/), when dealing with huge amount of data or to build your own application in the future, the best approach is to directly access the data from your program. In this material, we'll show you how to do that in python.\n",
    "\n",
    "Since the purpose is to tell you how to query a database by yourself, we'll NOT pre-inject the data for you. Instead, you'll have to create the table and insert the data by yourself.\n",
    "\n",
    "To give you full-access of the database on the university server, we'll use mySQL on this one. \n",
    "\n",
    "##### Connectors #####\n",
    "\n",
    "You'll need to use an \"Adapter\"-like package to connect python and the database management system. In this case it will be [MySQL Connectors](https://www.mysql.com/products/connector/). Please install it in your local.\n",
    "\n",
    "In case you want to install in your own enviroment, you can install it via [conda](https://anaconda.org/anaconda/mysql-connector-python)."
   ]
  },
  {
   "cell_type": "markdown",
   "metadata": {},
   "source": [
    "### <font color=\"#BF8B2A\">2 - Packages</font> ###\n",
    "#### <font color=\"#BF9A2A\">Let's import the package that allows you to connect to the database management system.</font>####"
   ]
  },
  {
   "cell_type": "code",
   "execution_count": 2,
   "metadata": {},
   "outputs": [],
   "source": [
    "import mysql.connector\n",
    "from mysql.connector import Error"
   ]
  },
  {
   "cell_type": "markdown",
   "metadata": {},
   "source": [
    "### <font color=\"#BF8B2A\">3 - Connections</font> ###\n",
    "#### <font color=\"#BF9A2A\">Then, let's establish the connection to our database.</font>####\n",
    "##### As talked, most of the values stay the same. #####\n",
    "- <font color=\"#2874A6\">user</font> and <font color=\"2874A6\">password</font> are corresponding to your credentials to the DBMS, we've already set up the account for you. The username and the password is your ID and password for  phpMyAdmin.\n",
    "\n",
    "- <font color=\"#2874A6\">host</font> stands for the server which the database management system(DBMS) is running on. In this case, it's on the same server as the phpMyAdmin is running on. Then the value would be <font color=\"#B02828\">\"myeusql.dur.ac.uk\"</font>.\n",
    "\n",
    "- <font color=\"#2874A6\">database</font> stands for the database inside the DBMS, one DBMS can handle multiple databases. Use the database you created in the previous seminar.\n",
    "\n",
    "Please change the username and the database to your own credentials accordingly. \n",
    "Note: you need to connect to VPN for this to work.\n",
    "\n",
    "Also, the connector depends on a cursor object to interact with the DBMS, the following code snippet will create one <code>cursor = conn.cursor()</code>"
   ]
  },
  {
   "cell_type": "code",
   "execution_count": 11,
   "metadata": {},
   "outputs": [],
   "source": [
    "# You need to fill in your credentials, and take care the error\n",
    "# try to connect to the database called \"xxxxx_world\" that created in Seminar 3 \n",
    "# and then use \"SHOW TABLES\" SQL statement to show all the tables in the database\n",
    "    \n",
    "conn = mysql.connector.connect(user=None, password=None, host=None, database=None)\n",
    "\n",
    "\n"
   ]
  },
  {
   "cell_type": "markdown",
   "metadata": {},
   "source": [
    "### <font color=\"#BF8B2A\">4 - Data injection SQL</font> ###\n",
    "#### <font color=\"#BF9A2A\">Finally, it's time to do some query.</font> ####\n",
    "This step is quite straight forward, just put the SQL into the <code>execute()</code> method and you're ready to go. Try to create the tables and insert the data by yourself. \n",
    "\n",
    "Also, since by default Connector/Python does not autocommit, it is important to call <code>commit()</code> method after every transaction that modifies data for tables that use transactional storage engines.\n",
    "\n",
    "For convenience sake, we've pasted the SQL here and tuned it a little bit for MySQL for you.\n",
    "\n",
    "##### <font color=\"#FF5A49\">Create a table named \"sample\" and insert some data into it.</font> #####\n",
    "\n",
    "<code>CREATE TABLE sample (\n",
    "    no integer PRIMARY KEY,\n",
    "    name varchar(50),\n",
    "    price integer\n",
    "    );\n",
    "    \n",
    "INSERT INTO sample VALUES(1001,'orange',50);\n",
    "INSERT INTO sample VALUES(1002,'apple',90);\n",
    "INSERT INTO sample VALUES(1003,'banana',50);</code>"
   ]
  },
  {
   "cell_type": "code",
   "execution_count": 3,
   "metadata": {},
   "outputs": [
    {
     "ename": "NameError",
     "evalue": "name 'cursor' is not defined",
     "output_type": "error",
     "traceback": [
      "\u001b[1;31m---------------------------------------------------------------------------\u001b[0m",
      "\u001b[1;31mNameError\u001b[0m                                 Traceback (most recent call last)",
      "\u001b[1;32m<ipython-input-3-e4a10796aebb>\u001b[0m in \u001b[0;36m<module>\u001b[1;34m\u001b[0m\n\u001b[0;32m      1\u001b[0m \u001b[1;31m# To make sure there's no duplication of the table, we will execute a query to drop the table if it exists\u001b[0m\u001b[1;33m\u001b[0m\u001b[1;33m\u001b[0m\u001b[1;33m\u001b[0m\u001b[0m\n\u001b[1;32m----> 2\u001b[1;33m \u001b[0mcursor\u001b[0m\u001b[1;33m.\u001b[0m\u001b[0mexecute\u001b[0m\u001b[1;33m(\u001b[0m\u001b[1;34m\"DROP TABLE IF EXISTS sample\"\u001b[0m\u001b[1;33m)\u001b[0m\u001b[1;33m\u001b[0m\u001b[1;33m\u001b[0m\u001b[0m\n\u001b[0m\u001b[0;32m      3\u001b[0m \u001b[1;33m\u001b[0m\u001b[0m\n\u001b[0;32m      4\u001b[0m \u001b[1;31m# Type the query here\u001b[0m\u001b[1;33m\u001b[0m\u001b[1;33m\u001b[0m\u001b[1;33m\u001b[0m\u001b[0m\n\u001b[0;32m      5\u001b[0m \u001b[0mcreate_table_query\u001b[0m \u001b[1;33m=\u001b[0m \u001b[1;32mNone\u001b[0m\u001b[1;33m\u001b[0m\u001b[1;33m\u001b[0m\u001b[0m\n",
      "\u001b[1;31mNameError\u001b[0m: name 'cursor' is not defined"
     ]
    }
   ],
   "source": [
    "# Type the query here\n",
    "create_table_query = None\n",
    "insert_query_list = None\n",
    "\n",
    "# To make sure there's no duplication of the table, we will execute a query to drop the table if it exists\n",
    "cursor.execute(\"DROP TABLE IF EXISTS sample\")\n",
    "\n",
    "# Create the table\n",
    "cursor.execute(create_table_query)\n",
    "\n",
    "# Insert some data\n",
    "for insert_query in insert_query_list:\n",
    "    cursor.execute(insert_query)\n",
    "# Commit the changes    \n",
    "conn.commit()\n",
    "\n",
    "# Confirm we have successfully created the table and inserted the data\n",
    "# Execute the SELECT query\n",
    "cursor.execute(\"SELECT * FROM sample\")\n",
    "# Fetch all the results\n",
    "results = cursor.fetchall()\n",
    "# Print the result\n",
    "for result in results:\n",
    "    print(result)"
   ]
  },
  {
   "cell_type": "markdown",
   "metadata": {},
   "source": [
    "##### <font color=\"#FF5A49\">Create a table named \"category\" and insert some data into it.</font> #####\n",
    "\n",
    "<code>CREATE TABLE category (\n",
    "    cat_id integer PRIMARY KEY,\n",
    "    cat_name varchar(30)\n",
    "    );\n",
    "    \n",
    "INSERT INTO category VALUES(1,'Art');\n",
    "INSERT INTO category VALUES(2,'Cookbook');\n",
    "INSERT INTO category VALUES(3,'Dictionary');\n",
    "INSERT INTO category VALUES(4,'Health');\n",
    "INSERT INTO category VALUES(5,'History');\n",
    "INSERT INTO category VALUES(6,'Textbook');\n",
    "INSERT INTO category VALUES(7,'Science');\n",
    "INSERT INTO category VALUES(8,'Travel');\n",
    "INSERT INTO category VALUES(9,'Science Fiction');\n",
    "INSERT INTO category VALUES(10,'Comic Book');</code>"
   ]
  },
  {
   "cell_type": "code",
   "execution_count": null,
   "metadata": {},
   "outputs": [],
   "source": [
    "# Type the query here\n",
    "create_table_query = None\n",
    "insert_query_list = None\n",
    "\n",
    "# To make sure there's no duplication of the table, we will execute a query to drop the table if it exists\n",
    "cursor.execute(\"DROP TABLE IF EXISTS category\")\n",
    "\n",
    "# Create the table\n",
    "\n",
    "\n",
    "# Insert some data\n",
    "\n",
    "\n",
    "# Commit the changes    \n",
    "\n",
    "\n",
    "# Confirm we have successfully created the table and inserted the data\n",
    "# Execute the SELECT query\n",
    "cursor.execute(\"SELECT * FROM category\")\n",
    "# Fetch all the results\n",
    "results = cursor.fetchall()\n",
    "# Print the result\n",
    "for result in results:\n",
    "    print(result)"
   ]
  },
  {
   "cell_type": "markdown",
   "metadata": {},
   "source": [
    "##### <font color=\"#FF5A49\">Create a table named \"books\" and insert some data into it.</font> #####\n",
    "\n",
    "<code>CREATE TABLE books(\n",
    "    book_id integer PRIMARY KEY,\n",
    "    title varchar(100) NOT NULL,\n",
    "    author varchar(50) NOT NULL,\n",
    "    date date,\n",
    "    cat_id integer REFERENCES category(cat_id),\n",
    "    price integer CHECK(price > 0),\n",
    "    stock integer DEFAULT 0\n",
    "    );\n",
    "    \n",
    "INSERT INTO books VALUES(10001,'Healthy habits','Taro Yamada','20160830',4,2200,15);\n",
    "INSERT INTO books VALUES(10002,'Vietnam in a week','John Pham','20170310',8,600,20);\n",
    "INSERT INTO books VALUES(10003,'Sazaesan','Machiko Hasegawa','20160121',10,1200,7);\n",
    "INSERT INTO books VALUES(10004,'Planet of apes','Monkey Mann','20160515',9,1000,null);\n",
    "INSERT INTO books VALUES(10005,'Yoga for Dummies','Hanako Yamada','20161123',4,1600,5);\n",
    "INSERT INTO books VALUES(10006,'English Dictionary','John Smith','20170120',3,1600,10);\n",
    "INSERT INTO books VALUES(10007,'Quantum Physics for Dummies','Jim Kim','20170225',7,700,18);\n",
    "INSERT INTO books VALUES(10008,'Introduction to Running','Peter Chen','20161022',4,2100,12);\n",
    "INSERT INTO books VALUES(10009,'Minority Report','Ken Westin','20160115',9,1300,3);\n",
    "INSERT INTO books VALUES(10010,'Greek Kitchen','Nick Papadomitos','20170216',2,1000,8);</code>"
   ]
  },
  {
   "cell_type": "code",
   "execution_count": null,
   "metadata": {},
   "outputs": [],
   "source": [
    "# Type the query here\n",
    "create_table_query = None\n",
    "insert_query_list = None\n",
    "\n",
    "# To make sure there's no duplication of the table, we will execute a query to drop the table if it exists\n",
    "cursor.execute(\"DROP TABLE IF EXISTS books\")\n",
    "\n",
    "# Create the table\n",
    "\n",
    "# Insert some data\n",
    "\n",
    "# Commit the changes    \n",
    "\n",
    "\n",
    "# Confirm we have successfully created the table and inserted the data\n",
    "# Execute the SELECT query\n",
    "cursor.execute(\"SELECT * FROM books\")\n",
    "# Fetch all the results\n",
    "results = cursor.fetchall()\n",
    "# Print the result\n",
    "for result in results:\n",
    "    print(result)"
   ]
  },
  {
   "cell_type": "markdown",
   "metadata": {},
   "source": [
    "### <font color=\"#BF8B2A\">5 - Retrieving data</font>  ###\n",
    "#### <font color=\"#BF9A2A\">If all goes well, you should have some tables as well as some data in your database now, let verify that next.</font> ####\n",
    "Similiar as above, all you have to do is to write the correct SQL and then execute it. After the execution, the data will be saved in the cursor object, you can call <code>fecthall()</code> to get all the query result.\n",
    "\n",
    "We will provide an example for you to fetch all the data in table \"books\" and print them out."
   ]
  },
  {
   "cell_type": "code",
   "execution_count": 4,
   "metadata": {},
   "outputs": [
    {
     "ename": "NameError",
     "evalue": "name 'cursor' is not defined",
     "output_type": "error",
     "traceback": [
      "\u001b[1;31m---------------------------------------------------------------------------\u001b[0m",
      "\u001b[1;31mNameError\u001b[0m                                 Traceback (most recent call last)",
      "\u001b[1;32m<ipython-input-4-5aa2929085a5>\u001b[0m in \u001b[0;36m<module>\u001b[1;34m\u001b[0m\n\u001b[0;32m      1\u001b[0m \u001b[0msql\u001b[0m \u001b[1;33m=\u001b[0m \u001b[1;34m\"SELECT * FROM books;\"\u001b[0m\u001b[1;33m\u001b[0m\u001b[1;33m\u001b[0m\u001b[0m\n\u001b[1;32m----> 2\u001b[1;33m \u001b[0mcursor\u001b[0m\u001b[1;33m.\u001b[0m\u001b[0mexecute\u001b[0m\u001b[1;33m(\u001b[0m\u001b[0msql\u001b[0m\u001b[1;33m)\u001b[0m\u001b[1;33m\u001b[0m\u001b[1;33m\u001b[0m\u001b[0m\n\u001b[0m\u001b[0;32m      3\u001b[0m \u001b[0mresult\u001b[0m \u001b[1;33m=\u001b[0m \u001b[0mcursor\u001b[0m\u001b[1;33m.\u001b[0m\u001b[0mfetchall\u001b[0m\u001b[1;33m(\u001b[0m\u001b[1;33m)\u001b[0m\u001b[1;33m\u001b[0m\u001b[1;33m\u001b[0m\u001b[0m\n\u001b[0;32m      4\u001b[0m \u001b[1;32mfor\u001b[0m \u001b[0mrow\u001b[0m \u001b[1;32min\u001b[0m \u001b[0mresult\u001b[0m\u001b[1;33m:\u001b[0m\u001b[1;33m\u001b[0m\u001b[1;33m\u001b[0m\u001b[0m\n\u001b[0;32m      5\u001b[0m     \u001b[0mprint\u001b[0m\u001b[1;33m(\u001b[0m\u001b[0mrow\u001b[0m\u001b[1;33m)\u001b[0m\u001b[1;33m\u001b[0m\u001b[1;33m\u001b[0m\u001b[0m\n",
      "\u001b[1;31mNameError\u001b[0m: name 'cursor' is not defined"
     ]
    }
   ],
   "source": [
    "sql = \"SELECT * FROM books;\"\n",
    "cursor.execute(sql)\n",
    "result = cursor.fetchall()\n",
    "for row in result:\n",
    "    print(row)"
   ]
  },
  {
   "cell_type": "markdown",
   "metadata": {},
   "source": [
    "### <font color=\"#6F7072\">Now you've learned how to retrieve as well as how to print the data, feel free to experiment with other query sentence. You can do better by utilizing the knowledge you've learned from Data Science to process or visualize these data.</font> ###\n",
    "<img src=\"img/glhf.png\" align=\"left\" width=\"500px\"></img>"
   ]
  },
  {
   "cell_type": "code",
   "execution_count": null,
   "metadata": {},
   "outputs": [],
   "source": [
    "# Template for you to explore with SQL\n",
    "sql = None\n",
    "cursor.execute(sql)\n",
    "result = cursor.fetchall()\n",
    "for row in result:\n",
    "    print(row)"
   ]
  },
  {
   "cell_type": "code",
   "execution_count": null,
   "metadata": {},
   "outputs": [],
   "source": [
    "#close cursor and connection object\n",
    "\n"
   ]
  }
 ],
 "metadata": {
  "kernelspec": {
   "display_name": "Python 3 (ipykernel)",
   "language": "python",
   "name": "python3"
  },
  "language_info": {
   "codemirror_mode": {
    "name": "ipython",
    "version": 3
   },
   "file_extension": ".py",
   "mimetype": "text/x-python",
   "name": "python",
   "nbconvert_exporter": "python",
   "pygments_lexer": "ipython3",
   "version": "3.9.12"
  }
 },
 "nbformat": 4,
 "nbformat_minor": 2
}
