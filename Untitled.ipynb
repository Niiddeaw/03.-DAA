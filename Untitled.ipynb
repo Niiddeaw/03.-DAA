{
 "cells": [
  {
   "cell_type": "code",
   "execution_count": 1,
   "id": "a175f400",
   "metadata": {},
   "outputs": [
    {
     "name": "stdout",
     "output_type": "stream",
     "text": [
      "Error while connecting to MySQL 2005 (HY000): Unknown MySQL server host 'myeusql.dur.ac.uk' (11001)\n"
     ]
    },
    {
     "ename": "NameError",
     "evalue": "name 'connection' is not defined",
     "output_type": "error",
     "traceback": [
      "\u001b[1;31m---------------------------------------------------------------------------\u001b[0m",
      "\u001b[1;31mNameError\u001b[0m                                 Traceback (most recent call last)",
      "Input \u001b[1;32mIn [1]\u001b[0m, in \u001b[0;36m<cell line: 6>\u001b[1;34m()\u001b[0m\n\u001b[0;32m     18\u001b[0m     \u001b[38;5;28mprint\u001b[39m(\u001b[38;5;124m'\u001b[39m\u001b[38;5;124mError while connecting to MySQL\u001b[39m\u001b[38;5;124m'\u001b[39m, e)\n\u001b[0;32m     19\u001b[0m \u001b[38;5;28;01mfinally\u001b[39;00m:\n\u001b[1;32m---> 20\u001b[0m     \u001b[38;5;28;01mif\u001b[39;00m(\u001b[43mconnection\u001b[49m\u001b[38;5;241m.\u001b[39mis_connected()):\n\u001b[0;32m     21\u001b[0m         cursor\u001b[38;5;241m.\u001b[39mclose()\n\u001b[0;32m     22\u001b[0m         connection\u001b[38;5;241m.\u001b[39mclose()\n",
      "\u001b[1;31mNameError\u001b[0m: name 'connection' is not defined"
     ]
    }
   ],
   "source": [
    "#create a database name “Pusername_dCenter” in MySQL provided by our university (URL: \"myeusql.dur.ac.uk\") (assume that the username is \"dur\" and password is \"G5k/709”) [10 marks]\n",
    "\n",
    "import mysql.connector\n",
    "from mysql.connector import Error\n",
    "\n",
    "try:\n",
    "    connection = mysql.connector.connect(host='myeusql.dur.ac.uk',user='cwrk44',password='byke57r')\n",
    "    #mySql_Create_Database = CREATE DATABASE NewDatabase;\n",
    "    if connection.is_connected():\n",
    "        db.Info = connection.get_server_info()\n",
    "        print('Connected to MySQL Server version ', db_Info)\n",
    "        cursor = connection.cursor()\n",
    "        cursor.execute('SHOW DATABASES')\n",
    "        records = cursor.fetchall()\n",
    "        for record in records:\n",
    "            print(record)   \n",
    "except Error as e:\n",
    "    print('Error while connecting to MySQL', e)\n",
    "finally:\n",
    "    if(connection.is_connected()):\n",
    "        cursor.close()\n",
    "        connection.close()\n",
    "        print('MySQL connection is closed')"
   ]
  },
  {
   "cell_type": "code",
   "execution_count": null,
   "id": "aa09bded",
   "metadata": {},
   "outputs": [],
   "source": []
  }
 ],
 "metadata": {
  "kernelspec": {
   "display_name": "Python 3 (ipykernel)",
   "language": "python",
   "name": "python3"
  },
  "language_info": {
   "codemirror_mode": {
    "name": "ipython",
    "version": 3
   },
   "file_extension": ".py",
   "mimetype": "text/x-python",
   "name": "python",
   "nbconvert_exporter": "python",
   "pygments_lexer": "ipython3",
   "version": "3.9.12"
  }
 },
 "nbformat": 4,
 "nbformat_minor": 5
}
