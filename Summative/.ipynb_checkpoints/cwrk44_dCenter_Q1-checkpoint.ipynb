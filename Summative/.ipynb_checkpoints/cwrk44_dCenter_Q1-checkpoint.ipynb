{
 "cells": [
  {
   "cell_type": "code",
   "execution_count": 1,
   "id": "19721733",
   "metadata": {},
   "outputs": [
    {
     "name": "stdout",
     "output_type": "stream",
     "text": [
      "Connected to MySQL Server version  5.5.5-10.5.18-MariaDB-log\n",
      "Error while connecting to MySQL 1007 (HY000): Can't create database 'Pcwrk44_dCenter'; database exists\n"
     ]
    }
   ],
   "source": [
    "#create a database name “Pusername_dCenter” in MySQL provided by our university (URL: \"myeusql.dur.ac.uk\") \n",
    "\n",
    "import mysql.connector\n",
    "from mysql.connector import Error\n",
    "\n",
    "try:\n",
    "    connection = mysql.connector.connect(user='cwrk44', password='byke57r', host= 'myeusql.dur.ac.uk')\n",
    "    if connection.is_connected():\n",
    "        db_Info = connection.get_server_info()\n",
    "        print('Connected to MySQL Server version ', db_Info)\n",
    "        cursor = connection.cursor()\n",
    "        cursor.execute('CREATE DATABASE Pcwrk44_dCenter')\n",
    "        records = cursor.fetchall()\n",
    "        for record in records:\n",
    "            print(record)   \n",
    "\n",
    "except Error as e:\n",
    "    print('Error while connecting to MySQL', e)\n"
   ]
  },
  {
   "cell_type": "code",
   "execution_count": 2,
   "id": "dffb90fb",
   "metadata": {},
   "outputs": [
    {
     "name": "stdout",
     "output_type": "stream",
     "text": [
      "Connected to MySQL Server version  5.5.5-10.5.18-MariaDB-log\n",
      "('Icwrk44_lecture1_engineering_company',)\n",
      "('Pcwrk44_dCenter',)\n",
      "('Pcwrk44_world',)\n",
      "('information_schema',)\n"
     ]
    }
   ],
   "source": [
    "try:\n",
    "    connection = mysql.connector.connect(user='cwrk44', password='byke57r', host= 'myeusql.dur.ac.uk')\n",
    "    if connection.is_connected():\n",
    "        db_Info = connection.get_server_info()\n",
    "        print('Connected to MySQL Server version ', db_Info)\n",
    "        cursor = connection.cursor()\n",
    "        cursor.execute('SHOW DATABASES')\n",
    "        records = cursor.fetchall()\n",
    "        for record in records:\n",
    "            print(record)   \n",
    "\n",
    "except Error as e:\n",
    "    print('Error while connecting to MySQL', e)"
   ]
  },
  {
   "cell_type": "code",
   "execution_count": 3,
   "id": "47d09870",
   "metadata": {},
   "outputs": [
    {
     "name": "stdout",
     "output_type": "stream",
     "text": [
      "dropped successfully\n"
     ]
    }
   ],
   "source": [
    "try:\n",
    "    connection = mysql.connector.connect(user='cwrk44', password='byke57r', host= 'myeusql.dur.ac.uk',database= 'Pcwrk44_dCenter')\n",
    "    if connection.is_connected():\n",
    "        cursor = connection.cursor()\n",
    "        cursor.execute('SET FOREIGN_KEY_CHECKS=0; DROP TABLE teacher,course,contract,student,registration')\n",
    "        #cursor.execute('DROP TABLE course')\n",
    "        #cursor.execute('DROP TABLE contract')\n",
    "        #cursor.execute('DROP TABLE student')\n",
    "        #cursor.execute('DROP TABLE registration')\n",
    "        print(\"dropped successfully\") \n",
    "\n",
    "except Error as e:\n",
    "    print('Error while connecting to MySQL', e)"
   ]
  },
  {
   "cell_type": "code",
   "execution_count": 4,
   "id": "ec719c29",
   "metadata": {},
   "outputs": [
    {
     "name": "stdout",
     "output_type": "stream",
     "text": [
      "Teacher Table created successfully\n",
      "Course table created successfully\n",
      "Contract table created successfully\n",
      "Student table created successfully\n",
      "Registration Table created successfully\n",
      "1.FKTeacher_Contract added\n",
      "2 FKContract_Teacher added\n",
      "3 FKContract_Course added\n",
      "4 FKCourse_Contract added\n",
      "5 FKCourse_Reg added\n",
      "6 FKReg_Courseadded\n",
      "7 FKReg_std added\n",
      "8 FKstd added\n",
      "MySQL connection is closed\n"
     ]
    }
   ],
   "source": [
    "#b)\tcreate the tables designed in your ER diagram in this database.  Lecture 7 page 15\n",
    "try:\n",
    "    connection = mysql.connector.connect(user='cwrk44', password='byke57r', host= 'myeusql.dur.ac.uk',database= 'Pcwrk44_dCenter')\n",
    "    cursor = connection.cursor()\n",
    "#teacher table\n",
    "    mySql_Create_Table_Teacher_Query = 'CREATE TABLE teacher(teacher_id int(10) NOT NULL, t_fullname varchar(200) NOT NULL,t_phonenumber VARCHAR(11) NOT NULL,t_email varchar(100) NOT NULL, hiring_date Date NOT NULL, contract_id int(10), PRIMARY KEY (teacher_id))'\n",
    "    result = cursor.execute( mySql_Create_Table_Teacher_Query)\n",
    "    print(\"Teacher Table created successfully\")\n",
    "#course table\n",
    "    mySql_Create_Table_Course_Query = 'CREATE TABLE course (course_id VARCHAR(10) NOT NULL, title VARCHAR(50) NOT NULL,course_type VARCHAR(10) NOT NULL,precessor_course_id VARCHAR(10) ,successor_course_id VARCHAR(10) ,contract_id int(10) ,reg_id int(10) ,PRIMARY KEY (course_id))'\n",
    "    result = cursor.execute( mySql_Create_Table_Course_Query)\n",
    "    print(\"Course table created successfully\")\n",
    "#contract table\n",
    "    mySql_Create_Table_Contract_Query = 'CREATE TABLE contract (contract_id int(10) NOT NULL, teacher_id int(10) NOT NULL,course_id VARCHAR(10) NOT NULL, PRIMARY KEY (contract_id))'\n",
    "    result = cursor.execute( mySql_Create_Table_Contract_Query)\n",
    "    print(\"Contract table created successfully\")\n",
    "#student table3\n",
    "    mySql_Create_Table_Student_Query = 'CREATE TABLE student (student_id int(8) NOT NULL, s_fullname varchar(200) NOT NULL,s_phonenumber VARCHAR(11) NOT NULL,s_email varchar(100) NOT NULL , date_of_join Date NOT NULL,reg_id int(10) NOT NULL,PRIMARY KEY (student_id))'\n",
    "    result = cursor.execute( mySql_Create_Table_Student_Query)\n",
    "    print(\"Student table created successfully\")\n",
    "#registration table\n",
    "    mySql_Create_Table_Registration_Query = 'CREATE TABLE registration (reg_id int(10) NOT NULL, course_id VARCHAR(10) NOT NULL, student_id int(8) NOT NULL, PRIMARY KEY (reg_id))'\n",
    "    result = cursor.execute(mySql_Create_Table_Registration_Query)\n",
    "    print(\"Registration Table created successfully\")\n",
    "#Add foriegnKey\n",
    "    addForiegnKey_Teacher_Contract = 'ALTER TABLE teacher ADD FOREIGN KEY (contract_id) REFERENCES contract(contract_id)';\n",
    "    addForiegnKey_Contract_Teacher = 'ALTER TABLE contract ADD FOREIGN KEY (teacher_id) REFERENCES teacher(teacher_id)';\n",
    "    addForiegnKey_Contract_Course = 'ALTER TABLE contract ADD FOREIGN KEY (course_id) REFERENCES course(course_id)';\n",
    "    addForiegnKey_Course_Contract = 'ALTER TABLE course ADD FOREIGN KEY (contract_id) REFERENCES contract(contract_id)';\n",
    "    addForiegnKey_Course_Reg = 'ALTER TABLE course ADD FOREIGN KEY (reg_id) REFERENCES registration(reg_id)';\n",
    "    addForiegnKey_Reg_Course = 'ALTER TABLE registration ADD FOREIGN KEY (course_id) REFERENCES course(course_id)';\n",
    "    addForiegnKey_Reg_Student = 'ALTER TABLE registration ADD FOREIGN KEY (student_id) REFERENCES student(student_id)';\n",
    "    addForiegnKey_Student_Reg = 'ALTER TABLE student ADD FOREIGN KEY (reg_id) REFERENCES registration(reg_id)';\n",
    "    result = cursor.execute(addForiegnKey_Teacher_Contract)\n",
    "    print(\"1.FKTeacher_Contract added\")\n",
    "    result = cursor.execute(addForiegnKey_Contract_Teacher)\n",
    "    print(\"2 FKContract_Teacher added\")\n",
    "    result = cursor.execute(addForiegnKey_Contract_Course)\n",
    "    print(\"3 FKContract_Course added\")\n",
    "    result = cursor.execute(addForiegnKey_Course_Contract)\n",
    "    print(\"4 FKCourse_Contract added\")\n",
    "    result = cursor.execute(addForiegnKey_Course_Reg)\n",
    "    print(\"5 FKCourse_Reg added\")\n",
    "    result = cursor.execute(addForiegnKey_Reg_Course)\n",
    "    print(\"6 FKReg_Courseadded\")\n",
    "    result = cursor.execute(addForiegnKey_Reg_Student)\n",
    "    print(\"7 FKReg_std added\")\n",
    "    result = cursor.execute(addForiegnKey_Student_Reg)\n",
    "    print(\"8 FKstd added\")\n",
    "except mysql.connector.Error as error:\n",
    "    print(\"Failed to create table in MySQL: {}\".format(error))\n",
    "finally:\n",
    "    if (connection.is_connected()):\n",
    "        cursor.close()\n",
    "        connection.close()\n",
    "        print(\"MySQL connection is closed\")"
   ]
  },
  {
   "cell_type": "code",
   "execution_count": 16,
   "id": "6326b321",
   "metadata": {},
   "outputs": [
    {
     "name": "stdout",
     "output_type": "stream",
     "text": [
      "Insert successfully\n",
      "MySQL connection is closed\n"
     ]
    }
   ],
   "source": [
    "#insert at least two rows in each table. – Lecture 7 page 20-25\n",
    "try:\n",
    "    connection = mysql.connector.connect(user='cwrk44', password='byke57r', host= 'myeusql.dur.ac.uk',database= 'Pcwrk44_dCenter')\n",
    "    cursor = connection.cursor()\n",
    "    #TeacherTable\n",
    "    mySql_insert_Teacher_query = 'INSERT INTO teacher (teacher_id, t_fullname, t_phonenumber, t_email, hiring_date) VALUES (%s, %s, %s, %s, %s)'\n",
    "    records_to_insert = [(50121, 'Adam Smith', '07769066252', 'adam.smith@training.ac.uk', '2019-01-11'), (50721, 'Jane Kim', '07645633252', 'jane.kim@training.ac.uk', '2019-01-16')]\n",
    "    cursor.executemany(mySql_insert_Teacher_query, records_to_insert)\n",
    "    connection.commit()\n",
    "    print('Insert successfully')\n",
    "except mysql.connector.Error as error:\n",
    "    print(\"Failed to insert rows in MySQL: {}\".format(error))\n",
    "finally:\n",
    "    if (connection.is_connected()):\n",
    "        cursor.close()\n",
    "        connection.close()\n",
    "        print(\"MySQL connection is closed\")\n",
    "    "
   ]
  },
  {
   "cell_type": "code",
   "execution_count": null,
   "id": "024b1a5f",
   "metadata": {},
   "outputs": [],
   "source": []
  },
  {
   "cell_type": "code",
   "execution_count": null,
   "id": "13fd444c",
   "metadata": {},
   "outputs": [],
   "source": []
  },
  {
   "cell_type": "code",
   "execution_count": null,
   "id": "4c773be3",
   "metadata": {},
   "outputs": [],
   "source": [
    "\n",
    "\n",
    "\n"
   ]
  },
  {
   "cell_type": "code",
   "execution_count": null,
   "id": "5857b1dd",
   "metadata": {},
   "outputs": [],
   "source": []
  },
  {
   "cell_type": "code",
   "execution_count": null,
   "id": "69b54e1d",
   "metadata": {},
   "outputs": [],
   "source": []
  }
 ],
 "metadata": {
  "kernelspec": {
   "display_name": "Python 3 (ipykernel)",
   "language": "python",
   "name": "python3"
  },
  "language_info": {
   "codemirror_mode": {
    "name": "ipython",
    "version": 3
   },
   "file_extension": ".py",
   "mimetype": "text/x-python",
   "name": "python",
   "nbconvert_exporter": "python",
   "pygments_lexer": "ipython3",
   "version": "3.9.12"
  }
 },
 "nbformat": 4,
 "nbformat_minor": 5
}
