{
 "cells": [
  {
   "cell_type": "code",
   "execution_count": 1,
   "id": "19721733",
   "metadata": {},
   "outputs": [
    {
     "name": "stdout",
     "output_type": "stream",
     "text": [
      "Connected to MySQL Server version  5.5.5-10.5.18-MariaDB-log\n",
      "Database created succesfully\n"
     ]
    }
   ],
   "source": [
    "#create a database name “Pusername_dCenter” in MySQL provided by our university (URL: \"myeusql.dur.ac.uk\") \n",
    "\n",
    "import mysql.connector\n",
    "from mysql.connector import Error\n",
    "\n",
    "try:\n",
    "    connection = mysql.connector.connect(user='cwrk44', password='byke57r', host= 'myeusql.dur.ac.uk')\n",
    "    if connection.is_connected():\n",
    "        db_Info = connection.get_server_info()\n",
    "        print('Connected to MySQL Server version ', db_Info)\n",
    "        cursor = connection.cursor()\n",
    "        cursor.execute('CREATE DATABASE Pcwrk44_dCenter')\n",
    "        print('Database created succesfully')\n",
    "except Error as e:\n",
    "    print('Error while connecting to MySQL', e)\n"
   ]
  },
  {
   "cell_type": "code",
   "execution_count": 2,
   "id": "dffb90fb",
   "metadata": {},
   "outputs": [
    {
     "name": "stdout",
     "output_type": "stream",
     "text": [
      "Connected to MySQL Server version  5.5.5-10.5.18-MariaDB-log\n",
      "('Icwrk44_lecture1_engineering_company',)\n",
      "('Pcwrk44_dCenter',)\n",
      "('Pcwrk44_world',)\n",
      "('information_schema',)\n"
     ]
    }
   ],
   "source": [
    "try:\n",
    "    connection = mysql.connector.connect(user='cwrk44', password='byke57r', host= 'myeusql.dur.ac.uk')\n",
    "    if connection.is_connected():\n",
    "        db_Info = connection.get_server_info()\n",
    "        print('Connected to MySQL Server version ', db_Info)\n",
    "        cursor = connection.cursor()\n",
    "        cursor.execute('SHOW DATABASES')\n",
    "        records = cursor.fetchall()\n",
    "        for record in records:\n",
    "            print(record)   \n",
    "\n",
    "except Error as e:\n",
    "    print('Error while connecting to MySQL', e)"
   ]
  },
  {
   "cell_type": "code",
   "execution_count": 3,
   "id": "f672ae22",
   "metadata": {},
   "outputs": [
    {
     "name": "stdout",
     "output_type": "stream",
     "text": [
      "dropped successfully\n"
     ]
    }
   ],
   "source": [
    "#droptables to ensure there is no duplicate table\n",
    "try:\n",
    "    connection = mysql.connector.connect(user='cwrk44', password='byke57r', host= 'myeusql.dur.ac.uk',database= 'Pcwrk44_dCenter')\n",
    "    if connection.is_connected():\n",
    "        cursor = connection.cursor()\n",
    "        cursor.execute('SET FOREIGN_KEY_CHECKS=0; DROP TABLE teacher,course,contract,student,registration')\n",
    "        #cursor.execute('DROP TABLE course')\n",
    "        #cursor.execute('DROP TABLE contract')\n",
    "        #cursor.execute('DROP TABLE student')\n",
    "        #cursor.execute('DROP TABLE registration')\n",
    "        print(\"dropped successfully\") \n",
    "\n",
    "except Error as e:\n",
    "    print('Error while connecting to MySQL', e)"
   ]
  },
  {
   "cell_type": "code",
   "execution_count": 4,
   "id": "5ede5a93",
   "metadata": {},
   "outputs": [
    {
     "name": "stdout",
     "output_type": "stream",
     "text": [
      "Teacher Table created successfully\n",
      "Course table created successfully\n",
      "Contract table created successfully\n",
      "Student table created successfully\n",
      "Registration Table created successfully\n",
      "1.FKContract_Teacher added\n",
      "2.FKContract_Course added\n",
      "3.FKReg_Course added\n",
      "4.FKReg_std added\n",
      "MySQL connection is closed\n"
     ]
    }
   ],
   "source": [
    "#b)\tcreate the tables designed in your ER diagram in this database.  Lecture 7 page 15\n",
    "try:\n",
    "    connection = mysql.connector.connect(user='cwrk44', password='byke57r', host= 'myeusql.dur.ac.uk',database= 'Pcwrk44_dCenter')\n",
    "    cursor = connection.cursor()\n",
    "#teacher table\n",
    "    mySql_Create_Table_Teacher_Query = 'CREATE TABLE teacher(teacher_id int(10) NOT NULL, t_fullname varchar(200) NOT NULL,t_phonenumber VARCHAR(11) NOT NULL,t_email varchar(100) NOT NULL, hiring_date Date NOT NULL, PRIMARY KEY (teacher_id))'\n",
    "    result = cursor.execute( mySql_Create_Table_Teacher_Query)\n",
    "    print(\"Teacher Table created successfully\")\n",
    "#course table\n",
    "    mySql_Create_Table_Course_Query = 'CREATE TABLE course (course_id VARCHAR(10) NOT NULL, title VARCHAR(50) NOT NULL,course_type VARCHAR(50) NOT NULL,precessor_course_id VARCHAR(10), successor_course_id VARCHAR(10), PRIMARY KEY (course_id))'\n",
    "    result = cursor.execute( mySql_Create_Table_Course_Query)\n",
    "    print(\"Course table created successfully\")\n",
    "#contract table\n",
    "    mySql_Create_Table_Contract_Query = 'CREATE TABLE contract (contract_id int(10) NOT NULL, teacher_id int(10) NOT NULL,course_id VARCHAR(10) NOT NULL, PRIMARY KEY (contract_id))'\n",
    "    result = cursor.execute( mySql_Create_Table_Contract_Query)\n",
    "    print(\"Contract table created successfully\")\n",
    "#student table3\n",
    "    mySql_Create_Table_Student_Query = 'CREATE TABLE student (student_id int(10) NOT NULL, s_fullname varchar(200) NOT NULL,s_phonenumber VARCHAR(11) NOT NULL,s_email varchar(100) NOT NULL , date_of_join Date NOT NULL,PRIMARY KEY (student_id))'\n",
    "    result = cursor.execute( mySql_Create_Table_Student_Query)\n",
    "    print(\"Student table created successfully\")\n",
    "#registration table\n",
    "    mySql_Create_Table_Registration_Query = 'CREATE TABLE registration (reg_id int(10) NOT NULL, course_id VARCHAR(10) NOT NULL, student_id int(10) NOT NULL, PRIMARY KEY (reg_id))'\n",
    "    result = cursor.execute(mySql_Create_Table_Registration_Query)\n",
    "    print(\"Registration Table created successfully\")\n",
    "#Add foriegnKey\n",
    "    addForiegnKey_Contract_Teacher = 'ALTER TABLE contract ADD FOREIGN KEY (teacher_id) REFERENCES teacher(teacher_id)';\n",
    "    addForiegnKey_Contract_Course = 'ALTER TABLE contract ADD FOREIGN KEY (course_id) REFERENCES course(course_id)';\n",
    "    addForiegnKey_Reg_Course = 'ALTER TABLE registration ADD FOREIGN KEY (course_id) REFERENCES course(course_id)';\n",
    "    addForiegnKey_Reg_Student = 'ALTER TABLE registration ADD FOREIGN KEY (student_id) REFERENCES student(student_id)';\n",
    "    result = cursor.execute(addForiegnKey_Contract_Teacher)\n",
    "    print(\"1.FKContract_Teacher added\")\n",
    "    result = cursor.execute(addForiegnKey_Contract_Course)\n",
    "    print(\"2.FKContract_Course added\")\n",
    "    result = cursor.execute(addForiegnKey_Reg_Course )\n",
    "    print(\"3.FKReg_Course added\")\n",
    "    result = cursor.execute(addForiegnKey_Reg_Student)\n",
    "    print(\"4.FKReg_std added\")\n",
    "    \n",
    "except mysql.connector.Error as error:\n",
    "    print(\"Failed to create table in MySQL: {}\".format(error))\n",
    "finally:\n",
    "    if (connection.is_connected()):\n",
    "        cursor.close()\n",
    "        connection.close()\n",
    "        print(\"MySQL connection is closed\")"
   ]
  },
  {
   "cell_type": "code",
   "execution_count": 5,
   "id": "6326b321",
   "metadata": {},
   "outputs": [
    {
     "name": "stdout",
     "output_type": "stream",
     "text": [
      "Inserted rows in teacher table successfully\n",
      "Inserted rows in course table successfully\n",
      "Inserted rows in student table successfully\n",
      "Inserted rows in contract table successfully\n",
      "Inserted rows in registration table successfully\n",
      "MySQL connection is closed\n"
     ]
    }
   ],
   "source": [
    "#insert at least two rows in each table. – Lecture 7 page 20-25\n",
    "try:\n",
    "    connection = mysql.connector.connect(user='cwrk44', password='byke57r', host= 'myeusql.dur.ac.uk',database= 'Pcwrk44_dCenter')\n",
    "    cursor = connection.cursor()\n",
    "    #TeacherTable\n",
    "    mySql_insert_Teacher_query = 'INSERT INTO teacher VALUES (%s, %s, %s, %s, %s)'\n",
    "    records_to_insert = [(46789, 'Janie Kim', '07654391986', 'Janie.Kim@training.ac.uk', '2019-01-16'), (51851, 'Lisa Kudos', '07751105978', 'Lisa.Kudos@training.ac.uk', '2022-03-27')]\n",
    "    cursor.executemany(mySql_insert_Teacher_query, records_to_insert)\n",
    "    connection.commit()\n",
    "    print('Inserted rows in teacher table successfully')\n",
    "    #CourseTable\n",
    "    mySql_insert_Course_query = 'INSERT INTO course VALUES (%s, %s, %s, %s, %s)'\n",
    "    records_to_insert = [('ENG101', 'English for daily life', 'Non-Academic', 'N/A', 'ENG102'), ('KOR101', 'Korean for beginner', 'Non-Academic', 'N/A', 'KOR102'),('ENG225', 'Academic writing', 'Academic', 'ENG200', 'N/A') ]\n",
    "    cursor.executemany(mySql_insert_Course_query, records_to_insert)\n",
    "    connection.commit()\n",
    "    print('Inserted rows in course table successfully')\n",
    "    #StudentTable\n",
    "    mySql_insert_Student_query = 'INSERT INTO student VALUES (%s, %s, %s, %s, %s)'\n",
    "    records_to_insert = [(202104456, 'Mike Parker', '07676086607', 'Mike.Parker@training.ac.uk', '2021-12-15'), (202200003, 'Rosanne Park', '07648776638', 'Rosanne.Park@training.ac.uk', '2022-02-11')]\n",
    "    cursor.executemany(mySql_insert_Student_query,records_to_insert)\n",
    "    connection.commit()\n",
    "    print('Inserted rows in student table successfully')\n",
    "    #ContractTable\n",
    "    mySql_insert_Contract_query = 'INSERT INTO contract VALUES (%s, %s, %s)'\n",
    "    records_to_insert = [(22546789, 46789, 'ENG225'),(22551851,51851,'ENG225'),(10151851,51851,'KOR101')]\n",
    "    cursor.executemany(mySql_insert_Contract_query,records_to_insert)\n",
    "    connection.commit()\n",
    "    print('Inserted rows in contract table successfully')\n",
    "    #RegistrationTable\n",
    "    mySql_insert_Registration_query = 'INSERT INTO registration VALUES (%s, %s, %s)'\n",
    "    records_to_insert = [(2021101234,'ENG101',202104456),(2022225001,'ENG225',202200003),(2022101001,'KOR101',202200003)]\n",
    "    cursor.executemany(mySql_insert_Registration_query,records_to_insert)\n",
    "    connection.commit()\n",
    "    print('Inserted rows in registration table successfully')\n",
    "except mysql.connector.Error as error:\n",
    "    print(\"Failed to insert rows in MySQL: {}\".format(error))\n",
    "finally:\n",
    "    if (connection.is_connected()):\n",
    "        cursor.close()\n",
    "        connection.close()\n",
    "        print(\"MySQL connection is closed\")\n",
    "    "
   ]
  },
  {
   "cell_type": "code",
   "execution_count": null,
   "id": "024b1a5f",
   "metadata": {},
   "outputs": [],
   "source": []
  },
  {
   "cell_type": "code",
   "execution_count": null,
   "id": "13fd444c",
   "metadata": {},
   "outputs": [],
   "source": []
  },
  {
   "cell_type": "code",
   "execution_count": null,
   "id": "4c773be3",
   "metadata": {},
   "outputs": [],
   "source": [
    "\n",
    "\n",
    "\n"
   ]
  },
  {
   "cell_type": "code",
   "execution_count": null,
   "id": "5857b1dd",
   "metadata": {},
   "outputs": [],
   "source": []
  },
  {
   "cell_type": "code",
   "execution_count": null,
   "id": "69b54e1d",
   "metadata": {},
   "outputs": [],
   "source": []
  }
 ],
 "metadata": {
  "kernelspec": {
   "display_name": "Python 3 (ipykernel)",
   "language": "python",
   "name": "python3"
  },
  "language_info": {
   "codemirror_mode": {
    "name": "ipython",
    "version": 3
   },
   "file_extension": ".py",
   "mimetype": "text/x-python",
   "name": "python",
   "nbconvert_exporter": "python",
   "pygments_lexer": "ipython3",
   "version": "3.9.12"
  }
 },
 "nbformat": 4,
 "nbformat_minor": 5
}
