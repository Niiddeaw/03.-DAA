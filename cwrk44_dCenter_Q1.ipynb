{
 "cells": [
  {
   "cell_type": "code",
   "execution_count": 3,
   "id": "19721733",
   "metadata": {},
   "outputs": [
    {
     "name": "stdout",
     "output_type": "stream",
     "text": [
      "Connected to MySQL Server version  5.5.5-10.5.18-MariaDB-log\n"
     ]
    }
   ],
   "source": [
    "#create a database name “Pusername_dCenter” in MySQL provided by our university (URL: \"myeusql.dur.ac.uk\") \n",
    "\n",
    "import mysql.connector\n",
    "from mysql.connector import Error\n",
    "\n",
    "try:\n",
    "    connection = mysql.connector.connect(user='cwrk44', password='byke57r', host= 'myeusql.dur.ac.uk')\n",
    "    if connection.is_connected():\n",
    "        db_Info = connection.get_server_info()\n",
    "        print('Connected to MySQL Server version ', db_Info)\n",
    "        cursor = connection.cursor()\n",
    "        cursor.execute('CREATE DATABASE Pcwrk44_dCenter')\n",
    "        records = cursor.fetchall()\n",
    "        for record in records:\n",
    "            print(record)   \n",
    "\n",
    "except Error as e:\n",
    "    print('Error while connecting to MySQL', e)\n"
   ]
  },
  {
   "cell_type": "code",
   "execution_count": 9,
   "id": "5f80bcca",
   "metadata": {},
   "outputs": [
    {
     "name": "stdout",
     "output_type": "stream",
     "text": [
      "Connected to MySQL Server version  5.5.5-10.5.18-MariaDB-log\n",
      "('Icwrk44_lecture1_engineering_company',)\n",
      "('Pcwrk44_dCenter',)\n",
      "('Pcwrk44_world',)\n",
      "('information_schema',)\n"
     ]
    }
   ],
   "source": [
    "try:\n",
    "    connection = mysql.connector.connect(user='cwrk44', password='byke57r', host= 'myeusql.dur.ac.uk')\n",
    "    if connection.is_connected():\n",
    "        db_Info = connection.get_server_info()\n",
    "        print('Connected to MySQL Server version ', db_Info)\n",
    "        cursor = connection.cursor()\n",
    "        cursor.execute('SHOW DATABASES')\n",
    "        records = cursor.fetchall()\n",
    "        for record in records:\n",
    "            print(record)   \n",
    "\n",
    "except Error as e:\n",
    "    print('Error while connecting to MySQL', e)"
   ]
  },
  {
   "cell_type": "code",
   "execution_count": 11,
   "id": "2ee39642",
   "metadata": {},
   "outputs": [
    {
     "name": "stdout",
     "output_type": "stream",
     "text": [
      "Failed to create table in MySQL: 1064 (42000): You have an error in your SQL syntax; check the manual that corresponds to your MariaDB server version for the right syntax to use near '' at line 1\n",
      "MySQL connection is closed\n"
     ]
    }
   ],
   "source": [
    "try:\n",
    "    connection = mysql.connector.connect(user='cwrk44', password='byke57r', host= 'myeusql.dur.ac.uk',database= 'Pcwrk44_dCenter')\n",
    "    cursor = connection.cursor()\n",
    "    result = cursor.execute(\"CREATE TABLE teacher (teacher_id int(10) NOT NULL, t_fullname varchar(200) NOT NULL,t_phonenumber int(11) NOT NULL,t_email varchar(100) NOT NULL , hiring_date Date NOT NULL, contract_id int(11) NOT NULL, PRIMARY KEY (teacher_id), FOREIGN KEY (contract_id) REFERENCES contract(contract_id)\")\n",
    "    print(\"Teacher Table created successfully\")\n",
    "#teacher table\n",
    "except mysql.connector.Error as error:\n",
    "    print(\"Failed to create table in MySQL: {}\".format(error))\n",
    "finally:\n",
    "    if (connection.is_connected()):\n",
    "        cursor.close()\n",
    "        connection.close()\n",
    "        print(\"MySQL connection is closed\")"
   ]
  },
  {
   "cell_type": "code",
   "execution_count": 7,
   "id": "6326b321",
   "metadata": {},
   "outputs": [
    {
     "name": "stdout",
     "output_type": "stream",
     "text": [
      "Failed to create table in MySQL: 1064 (42000): You have an error in your SQL syntax; check the manual that corresponds to your MariaDB server version for the right syntax to use near '\n",
      "FOREIGN KEY (contract_id) REFERENCES contract(contract_id))' at line 2\n"
     ]
    }
   ],
   "source": [
    "#b)\tcreate the tables designed in your ER diagram in this database.  Lecture 7 page 15\n",
    "\n",
    "try:\n",
    "    connection = mysql.connector.connect(user='cwrk44', password='byke57r', host= 'myeusql.dur.ac.uk',database= 'Pcwrk44_dCenter')\n",
    "    cursor = connection.cursor()\n",
    "#teacher table\n",
    "    mySql_Create_Table_Teacher_Query = \n",
    "    \"CREATE TABLE teacher (teacher_id int(10) NOT NULL, t_fullname varchar(200) NOT NULL,t_phonenumber int(11) NOT NULL,t_email varchar(100) NOT NULL , hiring_date Date NOT NULL, contract_id int(11) NOT NULL, PRIMARY KEY (teacher_id), \n",
    "    FOREIGN KEY (contract_id) REFERENCES contract(contract_id)\"\n",
    "#contract table\n",
    "    mySql_Create_Table_Contract_Query = \"\"\"CREATE TABLE contract (contract_id int(10) NOT NULL, teacher_id int(10) NOT NULL,course_id VARCHAR(10) NOT NULL,\n",
    "PRIMARY KEY (contract_id)), FOREIGN KEY (teacher_id) REFERENCES teacher(teacher_id), FOREIGN KEY (course_id) REFERENCES course(course_id))\"\"\"\n",
    "#course table\n",
    "    mySql_Create_Table_Course_Query = \"\"\"CREATE TABLE course (course_id VARCHAR(10) NOT NULL,title VARCHAR(50) NOT NULL,\n",
    "course_type VARCHAR(10) NOT NULL,precessor_course_id VARCHAR(10) NOT NULL,successor_course_id VARCHAR(10) NOT NULL,contract_id int(10) NOT NULL,\n",
    "reg_id int(10) NOT NULL,PRIMARY KEY (course_id)),FOREIGN KEY (contract_id) REFERENCES contract(contract_id),FOREIGN KEY (reg_id) REFERENCES registration(reg_id))\"\"\"\n",
    "#registration table\n",
    "    mySql_Create_Table_Registration_Query = \"\"\"CREATE TABLE registration (reg_id int(10) NOT NULL, course_id VARCHAR(10) NOT NULL,\n",
    "student_id int(8) NOT NULL,PRIMARY KEY (reg_id)),FOREIGN KEY (course_id) REFERENCES course(course_id)FOREIGN KEY (student_id) REFERENCES student(student_id))\"\"\"\n",
    "#student table\n",
    "    mySql_Create_Table_Student_Query = \"\"\"CREATE TABLE student (student_id int(8) NOT NULL, s_fullname varchar(200) NOT NULL,s_phonenumber int(11) NOT NULL,\n",
    "s_email varchar(100) NOT NULL , date_of_join Date NOT NULL,reg_id int(10) NOT NULL,PRIMARY KEY (student_id),FOREIGN KEY (reg_id) REFERENCES registration(reg_id))\"\"\"\n",
    "    result = cursor.execute(mySql_Create_Table_Teacher_Query)\n",
    "    print(\"Teacher Table created successfully\")\n",
    "    result = cursor.execute(mySql_Create_Table_Contract_Query)\n",
    "    print(\"Contract Table created successfully\")\n",
    "    result = cursor.execute(mySql_Create_Table_Course_Query)\n",
    "    print(\"Course Table created successfully\")\n",
    "    result = cursor.execute(mySql_Create_Table_Registration_Query)\n",
    "    print(\"Registration Table created successfully\")\n",
    "    result = cursor.execute(mySql_Create_Table_Student_Query)\n",
    "    print(\"Student Table created successfully\")\n",
    "except mysql.connector.Error as error:\n",
    "    print(\"Failed to create table in MySQL: {}\".format(error))"
   ]
  },
  {
   "cell_type": "code",
   "execution_count": null,
   "id": "a8452ff4",
   "metadata": {},
   "outputs": [],
   "source": []
  },
  {
   "cell_type": "code",
   "execution_count": null,
   "id": "39c1d207",
   "metadata": {},
   "outputs": [],
   "source": []
  },
  {
   "cell_type": "code",
   "execution_count": null,
   "id": "4c773be3",
   "metadata": {},
   "outputs": [],
   "source": [
    "#insert at least two rows in each table. – Lecture 7 page 20-25\n",
    "\n",
    "mySql_insert_query = \"\"\"INSERT INTO teacher (teacher_id, t_fullname, t_phonenumber, t_email, hiring_date, contract_id) VALUES (%s, %s, %s, %s) \"\"\"\n",
    "records_to_insert = [(50121, 'Adam Smith', 7769066252, 'adam.smith@training.ac.uk', '2019-01-11','2019014567'), (50121, 'Jane Kim', 7645369768, 'jane.kim@training.ac.uk', '2019-01-16','2019014567')]\n",
    "cursor = connection.cursor()\n",
    "cursor.executemany(mySql_insert_query, records_to_insert)\n"
   ]
  },
  {
   "cell_type": "code",
   "execution_count": null,
   "id": "5857b1dd",
   "metadata": {},
   "outputs": [],
   "source": []
  },
  {
   "cell_type": "code",
   "execution_count": null,
   "id": "6059b0bf",
   "metadata": {},
   "outputs": [],
   "source": []
  }
 ],
 "metadata": {
  "kernelspec": {
   "display_name": "Python 3 (ipykernel)",
   "language": "python",
   "name": "python3"
  },
  "language_info": {
   "codemirror_mode": {
    "name": "ipython",
    "version": 3
   },
   "file_extension": ".py",
   "mimetype": "text/x-python",
   "name": "python",
   "nbconvert_exporter": "python",
   "pygments_lexer": "ipython3",
   "version": "3.9.12"
  }
 },
 "nbformat": 4,
 "nbformat_minor": 5
}
